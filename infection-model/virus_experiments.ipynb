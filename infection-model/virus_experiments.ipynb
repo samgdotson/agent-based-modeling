{
 "cells": [
  {
   "cell_type": "code",
   "execution_count": 1,
   "metadata": {},
   "outputs": [],
   "source": [
    "from infection_model import VirusModel\n",
    "import matplotlib.pyplot as plt\n",
    "import matplotlib.tri as mtri\n",
    "from mpl_toolkits.mplot3d import Axes3D\n",
    "import numpy as np"
   ]
  },
  {
   "cell_type": "code",
   "execution_count": null,
   "metadata": {},
   "outputs": [],
   "source": [
    "# Experiment 1 \n",
    "# Lets look at how mortality rate affects the actual number of deaths\n",
    "\n",
    "# set up the environment\n",
    "height = 50\n",
    "width = 50\n",
    "ratio_empty = 0.9\n",
    "ratio_infected = 0.001\n",
    "cycle = 14 # days\n",
    "max_iter = 500\n",
    "max_range = 1\n",
    "\n",
    "mortality = []\n"
   ]
  }
 ],
 "metadata": {
  "kernelspec": {
   "display_name": "Python 3",
   "language": "python",
   "name": "python3"
  },
  "language_info": {
   "codemirror_mode": {
    "name": "ipython",
    "version": 3
   },
   "file_extension": ".py",
   "mimetype": "text/x-python",
   "name": "python",
   "nbconvert_exporter": "python",
   "pygments_lexer": "ipython3",
   "version": "3.6.5"
  }
 },
 "nbformat": 4,
 "nbformat_minor": 2
}
